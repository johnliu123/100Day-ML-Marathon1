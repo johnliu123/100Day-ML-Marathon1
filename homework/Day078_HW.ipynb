{
 "cells": [
  {
   "cell_type": "markdown",
   "metadata": {},
   "source": [
    "## Work\n",
    "1. 請嘗試將 preproc_x 替換成以每筆資料的 min/max 進行標準化至 -1 ~ 1 間，再進行訓練\n",
    "2. 請嘗試將 mlp 疊更深 (e.g 5~10 層)，進行訓練後觀察 learning curve 的走勢\n",
    "3. (optional) 請改用 GPU 進行訓練 (如果你有 GPU 的話)，比較使用 CPU 與 GPU 的訓練速度"
   ]
  },
  {
   "cell_type": "code",
   "execution_count": 1,
   "metadata": {},
   "outputs": [],
   "source": [
    "## 確認硬體資源\n",
    "\"\"\"\n",
    "Your code here\n",
    "\"\"\"\n"
   ]
  },
  {
   "cell_type": "code",
   "execution_count": 1,
   "metadata": {},
   "outputs": [
    {
     "name": "stderr",
     "output_type": "stream",
     "text": [
      "Using TensorFlow backend.\n"
     ]
    }
   ],
   "source": [
    "import os\n",
    "import keras\n",
    "\n",
    "# Disable GPU\n",
    "os.environ[\"CUDA_VISIBLE_DEVICES\"] = \"\""
   ]
  },
  {
   "cell_type": "code",
   "execution_count": 2,
   "metadata": {},
   "outputs": [],
   "source": [
    "train, test = keras.datasets.cifar10.load_data()"
   ]
  },
  {
   "cell_type": "code",
   "execution_count": 3,
   "metadata": {},
   "outputs": [],
   "source": [
    "## 資料前處理\n",
    "\"\"\"\n",
    "Your code here\n",
    "\"\"\"\n",
    "def preproc_x(x, flatten=True):\n",
    "    original_shape = x.shape\n",
    "    x = x.reshape((len(x), -1))\n",
    "    x = (x - x.min(axis=0)) / (x.max(axis=0) - x.min(axis=0)) * 2 - 1\n",
    "    if not flatten:\n",
    "        x = x.reshape(original_shape)\n",
    "    return x\n",
    "\n",
    "def preproc_y(y, num_classes=10):\n",
    "    if y.shape[-1] == 1:\n",
    "        y = keras.utils.to_categorical(y, num_classes)\n",
    "    return y"
   ]
  },
  {
   "cell_type": "code",
   "execution_count": 4,
   "metadata": {},
   "outputs": [],
   "source": [
    "x_train, y_train = train\n",
    "x_test, y_test = test\n",
    "\n",
    "# Preproc the inputs\n",
    "x_train = preproc_x(x_train)\n",
    "x_test = preproc_x(x_test)\n",
    "\n",
    "# Preprc the outputs\n",
    "y_train = preproc_y(y_train)\n",
    "y_test = preproc_y(y_test)"
   ]
  },
  {
   "cell_type": "code",
   "execution_count": 5,
   "metadata": {},
   "outputs": [
    {
     "name": "stdout",
     "output_type": "stream",
     "text": [
      "WARNING:tensorflow:From C:\\Users\\johnliu\\AppData\\Local\\Continuum\\anaconda3\\lib\\site-packages\\tensorflow\\python\\framework\\op_def_library.py:263: colocate_with (from tensorflow.python.framework.ops) is deprecated and will be removed in a future version.\n",
      "Instructions for updating:\n",
      "Colocations handled automatically by placer.\n",
      "_________________________________________________________________\n",
      "Layer (type)                 Output Shape              Param #   \n",
      "=================================================================\n",
      "input_1 (InputLayer)         (None, 3072)              0         \n",
      "_________________________________________________________________\n",
      "hidden_layer1 (Dense)        (None, 512)               1573376   \n",
      "_________________________________________________________________\n",
      "hidden_layer2 (Dense)        (None, 256)               131328    \n",
      "_________________________________________________________________\n",
      "hidden_layer3 (Dense)        (None, 128)               32896     \n",
      "_________________________________________________________________\n",
      "hidden_layer4 (Dense)        (None, 64)                8256      \n",
      "_________________________________________________________________\n",
      "hidden_layer5 (Dense)        (None, 32)                2080      \n",
      "_________________________________________________________________\n",
      "output (Dense)               (None, 10)                330       \n",
      "=================================================================\n",
      "Total params: 1,748,266\n",
      "Trainable params: 1,748,266\n",
      "Non-trainable params: 0\n",
      "_________________________________________________________________\n"
     ]
    }
   ],
   "source": [
    "\"\"\"\n",
    "Your code here\n",
    "\"\"\"\n",
    "def build_mlp(input_shape, output_units=10, num_neurons=[512, 256, 128, 64, 32]):\n",
    "    input_layer = keras.layers.Input(input_shape)\n",
    "    \n",
    "    for i, n_units in enumerate(num_neurons):\n",
    "        if i == 0:\n",
    "            x = keras.layers.Dense(units=n_units, activation=\"relu\", name=\"hidden_layer\"+str(i+1))(input_layer)\n",
    "        else:\n",
    "            x = keras.layers.Dense(units=n_units, activation=\"relu\", name=\"hidden_layer\"+str(i+1))(x)\n",
    "    \n",
    "    out = keras.layers.Dense(units=output_units, activation=\"softmax\", name=\"output\")(x)\n",
    "    \n",
    "    model = keras.models.Model(inputs=[input_layer], outputs=[out])\n",
    "    return model\n",
    "\n",
    "model = build_mlp((x_train.shape[1],))\n",
    "model.summary()"
   ]
  },
  {
   "cell_type": "code",
   "execution_count": 6,
   "metadata": {},
   "outputs": [],
   "source": [
    "## 超參數設定\n",
    "LEARNING_RATE = 0.001\n",
    "EPOCHS = 100\n",
    "BATCH_SIZE = 256"
   ]
  },
  {
   "cell_type": "code",
   "execution_count": 7,
   "metadata": {},
   "outputs": [],
   "source": [
    "optimizer = keras.optimizers.Adam(lr=LEARNING_RATE)\n",
    "model.compile(loss=\"categorical_crossentropy\", metrics=[\"accuracy\"], optimizer=optimizer)"
   ]
  },
  {
   "cell_type": "code",
   "execution_count": 8,
   "metadata": {},
   "outputs": [
    {
     "name": "stdout",
     "output_type": "stream",
     "text": [
      "WARNING:tensorflow:From C:\\Users\\johnliu\\AppData\\Local\\Continuum\\anaconda3\\lib\\site-packages\\tensorflow\\python\\ops\\math_ops.py:3066: to_int32 (from tensorflow.python.ops.math_ops) is deprecated and will be removed in a future version.\n",
      "Instructions for updating:\n",
      "Use tf.cast instead.\n",
      "Train on 50000 samples, validate on 10000 samples\n",
      "Epoch 1/100\n",
      "50000/50000 [==============================] - 11s 217us/step - loss: 1.7203 - acc: 0.3894 - val_loss: 1.5698 - val_acc: 0.4410\n",
      "Epoch 2/100\n",
      "50000/50000 [==============================] - 10s 205us/step - loss: 1.4902 - acc: 0.4734 - val_loss: 1.4574 - val_acc: 0.4855\n",
      "Epoch 3/100\n",
      "50000/50000 [==============================] - 11s 212us/step - loss: 1.3683 - acc: 0.5163 - val_loss: 1.4150 - val_acc: 0.5030\n",
      "Epoch 4/100\n",
      "50000/50000 [==============================] - 10s 210us/step - loss: 1.2755 - acc: 0.5498 - val_loss: 1.3812 - val_acc: 0.5201\n",
      "Epoch 5/100\n",
      "50000/50000 [==============================] - 12s 232us/step - loss: 1.1869 - acc: 0.5825 - val_loss: 1.3812 - val_acc: 0.5240\n",
      "Epoch 6/100\n",
      "50000/50000 [==============================] - 13s 251us/step - loss: 1.1084 - acc: 0.6111 - val_loss: 1.3851 - val_acc: 0.5281\n",
      "Epoch 7/100\n",
      "50000/50000 [==============================] - 11s 218us/step - loss: 1.0406 - acc: 0.6334 - val_loss: 1.3701 - val_acc: 0.5362\n",
      "Epoch 8/100\n",
      "50000/50000 [==============================] - 12s 236us/step - loss: 0.9637 - acc: 0.6617 - val_loss: 1.3968 - val_acc: 0.5398\n",
      "Epoch 9/100\n",
      "50000/50000 [==============================] - 11s 223us/step - loss: 0.8974 - acc: 0.6826 - val_loss: 1.4186 - val_acc: 0.5401\n",
      "Epoch 10/100\n",
      "50000/50000 [==============================] - 11s 211us/step - loss: 0.8234 - acc: 0.7101 - val_loss: 1.4477 - val_acc: 0.5353\n",
      "Epoch 11/100\n",
      "50000/50000 [==============================] - 11s 220us/step - loss: 0.7616 - acc: 0.7307 - val_loss: 1.5141 - val_acc: 0.5284\n",
      "Epoch 12/100\n",
      "50000/50000 [==============================] - 11s 213us/step - loss: 0.7033 - acc: 0.7520 - val_loss: 1.5386 - val_acc: 0.5433\n",
      "Epoch 13/100\n",
      "50000/50000 [==============================] - 11s 213us/step - loss: 0.6353 - acc: 0.7747 - val_loss: 1.6663 - val_acc: 0.5378\n",
      "Epoch 14/100\n",
      "50000/50000 [==============================] - 11s 211us/step - loss: 0.5810 - acc: 0.7967 - val_loss: 1.7247 - val_acc: 0.5297\n",
      "Epoch 15/100\n",
      "50000/50000 [==============================] - 11s 226us/step - loss: 0.5431 - acc: 0.8068 - val_loss: 1.7804 - val_acc: 0.5336\n",
      "Epoch 16/100\n",
      "50000/50000 [==============================] - 11s 216us/step - loss: 0.4956 - acc: 0.8260 - val_loss: 1.8811 - val_acc: 0.5307\n",
      "Epoch 17/100\n",
      "50000/50000 [==============================] - 11s 217us/step - loss: 0.4428 - acc: 0.8451 - val_loss: 1.9653 - val_acc: 0.5307\n",
      "Epoch 18/100\n",
      "50000/50000 [==============================] - 11s 212us/step - loss: 0.4077 - acc: 0.8563 - val_loss: 2.0402 - val_acc: 0.5344\n",
      "Epoch 19/100\n",
      "50000/50000 [==============================] - 11s 212us/step - loss: 0.3807 - acc: 0.8666 - val_loss: 2.1629 - val_acc: 0.5312\n",
      "Epoch 20/100\n",
      "50000/50000 [==============================] - 11s 212us/step - loss: 0.3566 - acc: 0.8757 - val_loss: 2.2835 - val_acc: 0.5281\n",
      "Epoch 21/100\n",
      "50000/50000 [==============================] - 11s 212us/step - loss: 0.3326 - acc: 0.8837 - val_loss: 2.2939 - val_acc: 0.5318\n",
      "Epoch 22/100\n",
      "50000/50000 [==============================] - 11s 228us/step - loss: 0.3065 - acc: 0.8920 - val_loss: 2.3832 - val_acc: 0.5310\n",
      "Epoch 23/100\n",
      "50000/50000 [==============================] - 11s 222us/step - loss: 0.2783 - acc: 0.9010 - val_loss: 2.4336 - val_acc: 0.5302\n",
      "Epoch 24/100\n",
      "50000/50000 [==============================] - 12s 231us/step - loss: 0.2665 - acc: 0.9071 - val_loss: 2.6028 - val_acc: 0.5211\n",
      "Epoch 25/100\n",
      "50000/50000 [==============================] - 12s 243us/step - loss: 0.2450 - acc: 0.9148 - val_loss: 2.6546 - val_acc: 0.5310\n",
      "Epoch 26/100\n",
      "50000/50000 [==============================] - 11s 220us/step - loss: 0.2309 - acc: 0.9193 - val_loss: 2.6668 - val_acc: 0.5288\n",
      "Epoch 27/100\n",
      "50000/50000 [==============================] - 11s 219us/step - loss: 0.2324 - acc: 0.9193 - val_loss: 2.7291 - val_acc: 0.5209\n",
      "Epoch 28/100\n",
      "50000/50000 [==============================] - 11s 222us/step - loss: 0.2231 - acc: 0.9232 - val_loss: 2.8468 - val_acc: 0.5206\n",
      "Epoch 29/100\n",
      "50000/50000 [==============================] - 13s 259us/step - loss: 0.2074 - acc: 0.9297 - val_loss: 2.8112 - val_acc: 0.5351\n",
      "Epoch 30/100\n",
      "50000/50000 [==============================] - 11s 220us/step - loss: 0.1781 - acc: 0.9383 - val_loss: 3.0219 - val_acc: 0.5219\n",
      "Epoch 31/100\n",
      "50000/50000 [==============================] - 11s 215us/step - loss: 0.1897 - acc: 0.9338 - val_loss: 2.9965 - val_acc: 0.5253\n",
      "Epoch 32/100\n",
      "50000/50000 [==============================] - 11s 215us/step - loss: 0.2077 - acc: 0.9286 - val_loss: 2.9490 - val_acc: 0.5247\n",
      "Epoch 33/100\n",
      "50000/50000 [==============================] - 11s 213us/step - loss: 0.1753 - acc: 0.9408 - val_loss: 3.1370 - val_acc: 0.5299\n",
      "Epoch 34/100\n",
      "50000/50000 [==============================] - 11s 215us/step - loss: 0.1655 - acc: 0.9431 - val_loss: 3.1634 - val_acc: 0.5220\n",
      "Epoch 35/100\n",
      "50000/50000 [==============================] - 11s 218us/step - loss: 0.1503 - acc: 0.9483 - val_loss: 3.2717 - val_acc: 0.5265\n",
      "Epoch 36/100\n",
      "50000/50000 [==============================] - 11s 213us/step - loss: 0.1656 - acc: 0.9441 - val_loss: 3.2269 - val_acc: 0.5284\n",
      "Epoch 37/100\n",
      "50000/50000 [==============================] - 11s 214us/step - loss: 0.1438 - acc: 0.9506 - val_loss: 3.2287 - val_acc: 0.5251\n",
      "Epoch 38/100\n",
      "50000/50000 [==============================] - 11s 213us/step - loss: 0.1495 - acc: 0.9495 - val_loss: 3.2831 - val_acc: 0.5225\n",
      "Epoch 39/100\n",
      "50000/50000 [==============================] - 11s 215us/step - loss: 0.1561 - acc: 0.9468 - val_loss: 3.3562 - val_acc: 0.5273\n",
      "Epoch 40/100\n",
      "50000/50000 [==============================] - 11s 215us/step - loss: 0.1343 - acc: 0.9549 - val_loss: 3.4410 - val_acc: 0.5301\n",
      "Epoch 41/100\n",
      "50000/50000 [==============================] - 11s 218us/step - loss: 0.1417 - acc: 0.9522 - val_loss: 3.3926 - val_acc: 0.5290\n",
      "Epoch 42/100\n",
      "50000/50000 [==============================] - 11s 214us/step - loss: 0.1296 - acc: 0.9561 - val_loss: 3.4083 - val_acc: 0.5247\n",
      "Epoch 43/100\n",
      "50000/50000 [==============================] - 11s 224us/step - loss: 0.1431 - acc: 0.9534 - val_loss: 3.4046 - val_acc: 0.5289\n",
      "Epoch 44/100\n",
      "50000/50000 [==============================] - 11s 213us/step - loss: 0.1109 - acc: 0.9625 - val_loss: 3.5610 - val_acc: 0.5247\n",
      "Epoch 45/100\n",
      "50000/50000 [==============================] - 11s 212us/step - loss: 0.1315 - acc: 0.9555 - val_loss: 3.5157 - val_acc: 0.5244\n",
      "Epoch 46/100\n",
      "50000/50000 [==============================] - 11s 213us/step - loss: 0.1152 - acc: 0.9620 - val_loss: 3.6276 - val_acc: 0.5215\n",
      "Epoch 47/100\n",
      "50000/50000 [==============================] - 11s 217us/step - loss: 0.1446 - acc: 0.9513 - val_loss: 3.3026 - val_acc: 0.5256\n",
      "Epoch 48/100\n",
      "50000/50000 [==============================] - 11s 213us/step - loss: 0.1184 - acc: 0.9608 - val_loss: 3.7002 - val_acc: 0.5368\n",
      "Epoch 49/100\n",
      "50000/50000 [==============================] - 11s 212us/step - loss: 0.1176 - acc: 0.9609 - val_loss: 3.5141 - val_acc: 0.5299\n",
      "Epoch 50/100\n",
      "50000/50000 [==============================] - 11s 213us/step - loss: 0.1249 - acc: 0.9570 - val_loss: 3.5241 - val_acc: 0.5309\n",
      "Epoch 51/100\n",
      "50000/50000 [==============================] - 11s 215us/step - loss: 0.1202 - acc: 0.9602 - val_loss: 3.5617 - val_acc: 0.5241\n",
      "Epoch 52/100\n",
      "50000/50000 [==============================] - 11s 219us/step - loss: 0.1000 - acc: 0.9664 - val_loss: 3.6724 - val_acc: 0.5227\n",
      "Epoch 53/100\n",
      "50000/50000 [==============================] - 11s 224us/step - loss: 0.0999 - acc: 0.9670 - val_loss: 3.7458 - val_acc: 0.5235\n",
      "Epoch 54/100\n",
      "50000/50000 [==============================] - 11s 212us/step - loss: 0.1215 - acc: 0.9602 - val_loss: 3.6007 - val_acc: 0.5318\n",
      "Epoch 55/100\n",
      "50000/50000 [==============================] - 11s 214us/step - loss: 0.1218 - acc: 0.9594 - val_loss: 3.6520 - val_acc: 0.5257\n",
      "Epoch 56/100\n",
      "50000/50000 [==============================] - 11s 212us/step - loss: 0.1149 - acc: 0.9617 - val_loss: 3.7357 - val_acc: 0.5233\n"
     ]
    },
    {
     "name": "stdout",
     "output_type": "stream",
     "text": [
      "Epoch 57/100\n",
      "50000/50000 [==============================] - 11s 214us/step - loss: 0.0811 - acc: 0.9729 - val_loss: 3.7822 - val_acc: 0.5253\n",
      "Epoch 58/100\n",
      "50000/50000 [==============================] - 11s 215us/step - loss: 0.0988 - acc: 0.9678 - val_loss: 3.6447 - val_acc: 0.5245\n",
      "Epoch 59/100\n",
      "50000/50000 [==============================] - 11s 218us/step - loss: 0.1127 - acc: 0.9638 - val_loss: 3.7870 - val_acc: 0.5299\n",
      "Epoch 60/100\n",
      "50000/50000 [==============================] - 11s 213us/step - loss: 0.1070 - acc: 0.9651 - val_loss: 3.7359 - val_acc: 0.5221\n",
      "Epoch 61/100\n",
      "50000/50000 [==============================] - 11s 213us/step - loss: 0.0753 - acc: 0.9752 - val_loss: 3.7699 - val_acc: 0.5310\n",
      "Epoch 62/100\n",
      "50000/50000 [==============================] - 11s 216us/step - loss: 0.0791 - acc: 0.9732 - val_loss: 3.8058 - val_acc: 0.5212\n",
      "Epoch 63/100\n",
      "50000/50000 [==============================] - 11s 213us/step - loss: 0.1146 - acc: 0.9623 - val_loss: 3.7655 - val_acc: 0.5212\n",
      "Epoch 64/100\n",
      "50000/50000 [==============================] - 11s 213us/step - loss: 0.1053 - acc: 0.9652 - val_loss: 3.6423 - val_acc: 0.5399\n",
      "Epoch 65/100\n",
      "50000/50000 [==============================] - 11s 215us/step - loss: 0.0983 - acc: 0.9673 - val_loss: 3.7932 - val_acc: 0.5211\n",
      "Epoch 66/100\n",
      "50000/50000 [==============================] - 11s 216us/step - loss: 0.0907 - acc: 0.9696 - val_loss: 3.8399 - val_acc: 0.5310\n",
      "Epoch 67/100\n",
      "50000/50000 [==============================] - 11s 214us/step - loss: 0.0870 - acc: 0.9710 - val_loss: 3.8483 - val_acc: 0.5345\n",
      "Epoch 68/100\n",
      "50000/50000 [==============================] - 11s 213us/step - loss: 0.0798 - acc: 0.9740 - val_loss: 3.9112 - val_acc: 0.5271\n",
      "Epoch 69/100\n",
      "50000/50000 [==============================] - 11s 227us/step - loss: 0.0833 - acc: 0.9729 - val_loss: 3.9042 - val_acc: 0.5343\n",
      "Epoch 70/100\n",
      "50000/50000 [==============================] - 12s 239us/step - loss: 0.1134 - acc: 0.9636 - val_loss: 3.7129 - val_acc: 0.5251\n",
      "Epoch 71/100\n",
      "50000/50000 [==============================] - 13s 263us/step - loss: 0.0756 - acc: 0.9749 - val_loss: 3.8788 - val_acc: 0.5207\n",
      "Epoch 72/100\n",
      "50000/50000 [==============================] - 13s 269us/step - loss: 0.0887 - acc: 0.9716 - val_loss: 3.8013 - val_acc: 0.5259\n",
      "Epoch 73/100\n",
      "50000/50000 [==============================] - 12s 249us/step - loss: 0.0698 - acc: 0.9773 - val_loss: 3.9957 - val_acc: 0.5243\n",
      "Epoch 74/100\n",
      "50000/50000 [==============================] - 13s 263us/step - loss: 0.0919 - acc: 0.9706 - val_loss: 3.8204 - val_acc: 0.5297\n",
      "Epoch 75/100\n",
      "50000/50000 [==============================] - 13s 265us/step - loss: 0.1003 - acc: 0.9677 - val_loss: 3.8726 - val_acc: 0.5188\n",
      "Epoch 76/100\n",
      "50000/50000 [==============================] - 16s 327us/step - loss: 0.0716 - acc: 0.9770 - val_loss: 3.8831 - val_acc: 0.5301\n",
      "Epoch 77/100\n",
      "50000/50000 [==============================] - 15s 305us/step - loss: 0.0707 - acc: 0.9766 - val_loss: 3.8271 - val_acc: 0.5267\n",
      "Epoch 78/100\n",
      "50000/50000 [==============================] - 14s 280us/step - loss: 0.0599 - acc: 0.9808 - val_loss: 3.9461 - val_acc: 0.5286\n",
      "Epoch 79/100\n",
      "50000/50000 [==============================] - 13s 268us/step - loss: 0.0921 - acc: 0.9711 - val_loss: 3.9547 - val_acc: 0.5248\n",
      "Epoch 80/100\n",
      "50000/50000 [==============================] - 14s 272us/step - loss: 0.0883 - acc: 0.9707 - val_loss: 3.9132 - val_acc: 0.5238\n",
      "Epoch 81/100\n",
      "50000/50000 [==============================] - 13s 264us/step - loss: 0.0827 - acc: 0.9736 - val_loss: 3.9477 - val_acc: 0.5289\n",
      "Epoch 82/100\n",
      "50000/50000 [==============================] - 12s 249us/step - loss: 0.0782 - acc: 0.9747 - val_loss: 3.9200 - val_acc: 0.5302\n",
      "Epoch 83/100\n",
      "50000/50000 [==============================] - 12s 244us/step - loss: 0.0799 - acc: 0.9742 - val_loss: 3.8497 - val_acc: 0.5234\n",
      "Epoch 84/100\n",
      "50000/50000 [==============================] - 12s 239us/step - loss: 0.0677 - acc: 0.9782 - val_loss: 3.9600 - val_acc: 0.5244\n",
      "Epoch 85/100\n",
      "50000/50000 [==============================] - 11s 224us/step - loss: 0.0723 - acc: 0.9763 - val_loss: 3.8826 - val_acc: 0.5245\n",
      "Epoch 86/100\n",
      "50000/50000 [==============================] - 12s 235us/step - loss: 0.0656 - acc: 0.9789 - val_loss: 4.0316 - val_acc: 0.5275\n",
      "Epoch 87/100\n",
      "50000/50000 [==============================] - 12s 234us/step - loss: 0.0839 - acc: 0.9726 - val_loss: 3.9722 - val_acc: 0.5272\n",
      "Epoch 88/100\n",
      "50000/50000 [==============================] - 12s 237us/step - loss: 0.0608 - acc: 0.9801 - val_loss: 4.0800 - val_acc: 0.5271\n",
      "Epoch 89/100\n",
      "50000/50000 [==============================] - 11s 230us/step - loss: 0.0811 - acc: 0.9741 - val_loss: 4.0553 - val_acc: 0.5177\n",
      "Epoch 90/100\n",
      "50000/50000 [==============================] - 11s 229us/step - loss: 0.0963 - acc: 0.9699 - val_loss: 3.9489 - val_acc: 0.5265\n",
      "Epoch 91/100\n",
      "50000/50000 [==============================] - 11s 225us/step - loss: 0.0414 - acc: 0.9867 - val_loss: 4.0082 - val_acc: 0.5338\n",
      "Epoch 92/100\n",
      "50000/50000 [==============================] - 12s 231us/step - loss: 0.0462 - acc: 0.9848 - val_loss: 4.0900 - val_acc: 0.5234\n",
      "Epoch 93/100\n",
      "50000/50000 [==============================] - 11s 224us/step - loss: 0.0891 - acc: 0.9717 - val_loss: 3.9999 - val_acc: 0.5235\n",
      "Epoch 94/100\n",
      "50000/50000 [==============================] - 12s 248us/step - loss: 0.0864 - acc: 0.9723 - val_loss: 3.9751 - val_acc: 0.5292\n",
      "Epoch 95/100\n",
      "50000/50000 [==============================] - 12s 231us/step - loss: 0.0527 - acc: 0.9830 - val_loss: 4.0736 - val_acc: 0.5304\n",
      "Epoch 96/100\n",
      "50000/50000 [==============================] - 11s 227us/step - loss: 0.0591 - acc: 0.9810 - val_loss: 4.1106 - val_acc: 0.5262\n",
      "Epoch 97/100\n",
      "50000/50000 [==============================] - 12s 231us/step - loss: 0.0575 - acc: 0.9817 - val_loss: 4.1235 - val_acc: 0.5308\n",
      "Epoch 98/100\n",
      "50000/50000 [==============================] - 11s 230us/step - loss: 0.0756 - acc: 0.9766 - val_loss: 4.1068 - val_acc: 0.5307\n",
      "Epoch 99/100\n",
      "50000/50000 [==============================] - 11s 227us/step - loss: 0.0750 - acc: 0.9765 - val_loss: 4.0259 - val_acc: 0.5277\n",
      "Epoch 100/100\n",
      "50000/50000 [==============================] - 11s 226us/step - loss: 0.0622 - acc: 0.9806 - val_loss: 4.0074 - val_acc: 0.5338\n"
     ]
    },
    {
     "data": {
      "text/plain": [
       "<keras.callbacks.History at 0x1b7a849ff60>"
      ]
     },
     "execution_count": 8,
     "metadata": {},
     "output_type": "execute_result"
    }
   ],
   "source": [
    "model.fit(x_train, y_train, \n",
    "          epochs=EPOCHS, \n",
    "          batch_size=BATCH_SIZE, \n",
    "          validation_data=(x_test, y_test), \n",
    "          shuffle=True)"
   ]
  },
  {
   "cell_type": "code",
   "execution_count": 10,
   "metadata": {},
   "outputs": [
    {
     "data": {
      "image/png": "[encoded data removed]",
      "text/plain": [
       "<Figure size 432x288 with 1 Axes>"
      ]
     },
     "metadata": {
      "needs_background": "light"
     },
     "output_type": "display_data"
    },
    {
     "data": {
      "image/png": "[encoded data removed]",
      "text/plain": [
       "<Figure size 432x288 with 1 Axes>"
      ]
     },
     "metadata": {
      "needs_background": "light"
     },
     "output_type": "display_data"
    }
   ],
   "source": [
    "import matplotlib.pyplot as plt\n",
    "\n",
    "\n",
    "train_loss = model.history.history[\"loss\"]\n",
    "valid_loss = model.history.history[\"val_loss\"]\n",
    "\n",
    "train_acc = model.history.history[\"acc\"]\n",
    "valid_acc = model.history.history[\"val_acc\"]\n",
    "\n",
    "plt.plot(range(len(train_loss)), train_loss, label=\"train loss\")\n",
    "plt.plot(range(len(valid_loss)), valid_loss, label=\"valid loss\")\n",
    "plt.legend()\n",
    "plt.title(\"Loss\")\n",
    "plt.show()\n",
    "\n",
    "plt.plot(range(len(train_acc)), train_acc, label=\"train accuracy\")\n",
    "plt.plot(range(len(valid_acc)), valid_acc, label=\"valid accuracy\")\n",
    "plt.legend()\n",
    "plt.title(\"Accuracy\")\n",
    "plt.show()"
   ]
  },
  {
   "cell_type": "code",
   "execution_count": null,
   "metadata": {},
   "outputs": [],
   "source": []
  }
 ],
 "metadata": {
  "kernelspec": {
   "display_name": "Python 3",
   "language": "python",
   "name": "python3"
  },
  "language_info": {
   "codemirror_mode": {
    "name": "ipython",
    "version": 3
   },
   "file_extension": ".py",
   "mimetype": "text/x-python",
   "name": "python",
   "nbconvert_exporter": "python",
   "pygments_lexer": "ipython3",
   "version": "3.6.8"
  }
 },
 "nbformat": 4,
 "nbformat_minor": 2
}
