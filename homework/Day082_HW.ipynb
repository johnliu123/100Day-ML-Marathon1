{
 "cells": [
  {
   "cell_type": "markdown",
   "metadata": {},
   "source": [
    "## Work\n",
    "1. 請比較使用不同層數以及不同 Dropout rate 對訓練的效果\n",
    "2. 將 optimizer 改成使用 Adam 並加上適當的 dropout rate 檢視結果"
   ]
  },
  {
   "cell_type": "code",
   "execution_count": 1,
   "metadata": {},
   "outputs": [
    {
     "name": "stderr",
     "output_type": "stream",
     "text": [
      "Using TensorFlow backend.\n"
     ]
    }
   ],
   "source": [
    "import os\n",
    "import keras\n",
    "import itertools\n",
    "# Disable GPU\n",
    "os.environ[\"CUDA_VISIBLE_DEVICES\"] = \"\""
   ]
  },
  {
   "cell_type": "code",
   "execution_count": 2,
   "metadata": {},
   "outputs": [],
   "source": [
    "train, test = keras.datasets.cifar10.load_data()"
   ]
  },
  {
   "cell_type": "code",
   "execution_count": 3,
   "metadata": {},
   "outputs": [],
   "source": [
    "## 資料前處理\n",
    "def preproc_x(x, flatten=True):\n",
    "    x = x / 255.\n",
    "    if flatten:\n",
    "        x = x.reshape((len(x), -1))\n",
    "    return x\n",
    "\n",
    "def preproc_y(y, num_classes=10):\n",
    "    if y.shape[-1] == 1:\n",
    "        y = keras.utils.to_categorical(y, num_classes)\n",
    "    return y    "
   ]
  },
  {
   "cell_type": "code",
   "execution_count": 4,
   "metadata": {},
   "outputs": [],
   "source": [
    "x_train, y_train = train\n",
    "x_test, y_test = test\n",
    "\n",
    "# Preproc the inputs\n",
    "x_train = preproc_x(x_train)\n",
    "x_test = preproc_x(x_test)\n",
    "\n",
    "# Preprc the outputs\n",
    "y_train = preproc_y(y_train)\n",
    "y_test = preproc_y(y_test)"
   ]
  },
  {
   "cell_type": "code",
   "execution_count": 5,
   "metadata": {},
   "outputs": [],
   "source": [
    "from keras.layers import Dropout\n",
    "def build_mlp(input_shape, output_units=10, num_neurons=[512, 256, 128], drp_ratio=0.2):\n",
    "    input_layer = keras.layers.Input(input_shape)\n",
    "    \n",
    "    for i, n_units in enumerate(num_neurons):\n",
    "        if i == 0:\n",
    "            x = keras.layers.Dense(units=n_units, \n",
    "                                   activation=\"relu\", \n",
    "                                   name=\"hidden_layer\"+str(i+1))(input_layer)\n",
    "            x = Dropout(drp_ratio)(x)\n",
    "        else:\n",
    "            x = keras.layers.Dense(units=n_units, \n",
    "                                   activation=\"relu\", \n",
    "                                   name=\"hidden_layer\"+str(i+1))(x)\n",
    "            x = Dropout(drp_ratio)(x)\n",
    "    \n",
    "    out = keras.layers.Dense(units=output_units, activation=\"softmax\", name=\"output\")(x)\n",
    "    \n",
    "    model = keras.models.Model(inputs=[input_layer], outputs=[out])\n",
    "    return model"
   ]
  },
  {
   "cell_type": "code",
   "execution_count": 6,
   "metadata": {},
   "outputs": [],
   "source": [
    "## 超參數設定\n",
    "LEARNING_RATE = 1e-3\n",
    "EPOCHS = 50\n",
    "BATCH_SIZE = 256\n",
    "MOMENTUM = 0.95\n",
    "Dropout_EXP = 0.5"
   ]
  },
  {
   "cell_type": "code",
   "execution_count": 7,
   "metadata": {
    "scrolled": true
   },
   "outputs": [
    {
     "name": "stdout",
     "output_type": "stream",
     "text": [
      "WARNING:tensorflow:From C:\\Users\\johnliu\\AppData\\Local\\Continuum\\anaconda3\\lib\\site-packages\\tensorflow\\python\\framework\\op_def_library.py:263: colocate_with (from tensorflow.python.framework.ops) is deprecated and will be removed in a future version.\n",
      "Instructions for updating:\n",
      "Colocations handled automatically by placer.\n",
      "WARNING:tensorflow:From C:\\Users\\johnliu\\AppData\\Local\\Continuum\\anaconda3\\lib\\site-packages\\keras\\backend\\tensorflow_backend.py:3445: calling dropout (from tensorflow.python.ops.nn_ops) with keep_prob is deprecated and will be removed in a future version.\n",
      "Instructions for updating:\n",
      "Please use `rate` instead of `keep_prob`. Rate should be set to `rate = 1 - keep_prob`.\n",
      "_________________________________________________________________\n",
      "Layer (type)                 Output Shape              Param #   \n",
      "=================================================================\n",
      "input_1 (InputLayer)         (None, 3072)              0         \n",
      "_________________________________________________________________\n",
      "hidden_layer1 (Dense)        (None, 512)               1573376   \n",
      "_________________________________________________________________\n",
      "dropout_1 (Dropout)          (None, 512)               0         \n",
      "_________________________________________________________________\n",
      "hidden_layer2 (Dense)        (None, 256)               131328    \n",
      "_________________________________________________________________\n",
      "dropout_2 (Dropout)          (None, 256)               0         \n",
      "_________________________________________________________________\n",
      "hidden_layer3 (Dense)        (None, 128)               32896     \n",
      "_________________________________________________________________\n",
      "dropout_3 (Dropout)          (None, 128)               0         \n",
      "_________________________________________________________________\n",
      "output (Dense)               (None, 10)                1290      \n",
      "=================================================================\n",
      "Total params: 1,738,890\n",
      "Trainable params: 1,738,890\n",
      "Non-trainable params: 0\n",
      "_________________________________________________________________\n",
      "WARNING:tensorflow:From C:\\Users\\johnliu\\AppData\\Local\\Continuum\\anaconda3\\lib\\site-packages\\tensorflow\\python\\ops\\math_ops.py:3066: to_int32 (from tensorflow.python.ops.math_ops) is deprecated and will be removed in a future version.\n",
      "Instructions for updating:\n",
      "Use tf.cast instead.\n",
      "Train on 50000 samples, validate on 10000 samples\n",
      "Epoch 1/50\n",
      "50000/50000 [==============================] - 9s 179us/step - loss: 2.3104 - acc: 0.1315 - val_loss: 2.1956 - val_acc: 0.2103\n",
      "Epoch 2/50\n",
      "50000/50000 [==============================] - 9s 180us/step - loss: 2.1897 - acc: 0.1763 - val_loss: 2.0907 - val_acc: 0.2372\n",
      "Epoch 3/50\n",
      "50000/50000 [==============================] - 9s 187us/step - loss: 2.1165 - acc: 0.2041 - val_loss: 2.0134 - val_acc: 0.2933\n",
      "Epoch 4/50\n",
      "50000/50000 [==============================] - 9s 176us/step - loss: 2.0640 - acc: 0.2236 - val_loss: 1.9604 - val_acc: 0.2969\n",
      "Epoch 5/50\n",
      "50000/50000 [==============================] - 9s 173us/step - loss: 2.0212 - acc: 0.2455 - val_loss: 1.9135 - val_acc: 0.3120\n",
      "Epoch 6/50\n",
      "50000/50000 [==============================] - 9s 172us/step - loss: 1.9906 - acc: 0.2606 - val_loss: 1.8728 - val_acc: 0.3332\n",
      "Epoch 7/50\n",
      "50000/50000 [==============================] - 9s 173us/step - loss: 1.9603 - acc: 0.2759 - val_loss: 1.8475 - val_acc: 0.3480\n",
      "Epoch 8/50\n",
      "50000/50000 [==============================] - 9s 173us/step - loss: 1.9369 - acc: 0.2861 - val_loss: 1.8177 - val_acc: 0.3552\n",
      "Epoch 9/50\n",
      "50000/50000 [==============================] - 9s 170us/step - loss: 1.9192 - acc: 0.2942 - val_loss: 1.8101 - val_acc: 0.3614\n",
      "Epoch 10/50\n",
      "50000/50000 [==============================] - 8s 169us/step - loss: 1.8972 - acc: 0.3047 - val_loss: 1.7740 - val_acc: 0.3727\n",
      "Epoch 11/50\n",
      "50000/50000 [==============================] - 8s 170us/step - loss: 1.8795 - acc: 0.3144 - val_loss: 1.7562 - val_acc: 0.3758\n",
      "Epoch 12/50\n",
      "50000/50000 [==============================] - 9s 173us/step - loss: 1.8697 - acc: 0.3190 - val_loss: 1.7403 - val_acc: 0.3823\n",
      "Epoch 13/50\n",
      "50000/50000 [==============================] - 9s 172us/step - loss: 1.8568 - acc: 0.3241 - val_loss: 1.7274 - val_acc: 0.3814\n",
      "Epoch 14/50\n",
      "50000/50000 [==============================] - 9s 173us/step - loss: 1.8380 - acc: 0.3314 - val_loss: 1.7166 - val_acc: 0.3966\n",
      "Epoch 15/50\n",
      "50000/50000 [==============================] - 9s 171us/step - loss: 1.8221 - acc: 0.3364 - val_loss: 1.7027 - val_acc: 0.3942\n",
      "Epoch 16/50\n",
      "50000/50000 [==============================] - 9s 172us/step - loss: 1.8163 - acc: 0.3392 - val_loss: 1.6961 - val_acc: 0.3921\n",
      "Epoch 17/50\n",
      "50000/50000 [==============================] - 9s 173us/step - loss: 1.8058 - acc: 0.3432 - val_loss: 1.6698 - val_acc: 0.4059 0s - loss: 1.8050 - a\n",
      "Epoch 18/50\n",
      "50000/50000 [==============================] - 9s 173us/step - loss: 1.7951 - acc: 0.3490 - val_loss: 1.6700 - val_acc: 0.4080\n",
      "Epoch 19/50\n",
      "50000/50000 [==============================] - 9s 173us/step - loss: 1.7855 - acc: 0.3492 - val_loss: 1.6519 - val_acc: 0.4147\n",
      "Epoch 20/50\n",
      "50000/50000 [==============================] - 9s 170us/step - loss: 1.7752 - acc: 0.3552 - val_loss: 1.6371 - val_acc: 0.4135\n",
      "Epoch 21/50\n",
      "50000/50000 [==============================] - 8s 169us/step - loss: 1.7644 - acc: 0.3590 - val_loss: 1.6361 - val_acc: 0.4195\n",
      "Epoch 22/50\n",
      "50000/50000 [==============================] - 9s 174us/step - loss: 1.7589 - acc: 0.3664 - val_loss: 1.6241 - val_acc: 0.4210\n",
      "Epoch 23/50\n",
      "50000/50000 [==============================] - 9s 173us/step - loss: 1.7509 - acc: 0.3641 - val_loss: 1.6259 - val_acc: 0.4262\n",
      "Epoch 24/50\n",
      "50000/50000 [==============================] - 9s 182us/step - loss: 1.7330 - acc: 0.3743 - val_loss: 1.6080 - val_acc: 0.4308\n",
      "Epoch 25/50\n",
      "50000/50000 [==============================] - 9s 190us/step - loss: 1.7278 - acc: 0.3746 - val_loss: 1.5930 - val_acc: 0.4373\n",
      "Epoch 26/50\n",
      "50000/50000 [==============================] - 9s 184us/step - loss: 1.7245 - acc: 0.3792 - val_loss: 1.5997 - val_acc: 0.4351\n",
      "Epoch 27/50\n",
      "50000/50000 [==============================] - 10s 204us/step - loss: 1.7170 - acc: 0.3827 - val_loss: 1.5828 - val_acc: 0.4407\n",
      "Epoch 28/50\n",
      "50000/50000 [==============================] - 9s 186us/step - loss: 1.7123 - acc: 0.3828 - val_loss: 1.5792 - val_acc: 0.4309\n",
      "Epoch 29/50\n",
      "50000/50000 [==============================] - 9s 177us/step - loss: 1.7016 - acc: 0.3852 - val_loss: 1.5744 - val_acc: 0.4399\n",
      "Epoch 30/50\n",
      "50000/50000 [==============================] - 8s 168us/step - loss: 1.6936 - acc: 0.3893 - val_loss: 1.5609 - val_acc: 0.4465\n",
      "Epoch 31/50\n",
      "50000/50000 [==============================] - 9s 172us/step - loss: 1.6877 - acc: 0.3935 - val_loss: 1.5635 - val_acc: 0.4455\n",
      "Epoch 32/50\n",
      "50000/50000 [==============================] - 9s 180us/step - loss: 1.6829 - acc: 0.3928 - val_loss: 1.5433 - val_acc: 0.4515\n",
      "Epoch 33/50\n",
      "50000/50000 [==============================] - 10s 193us/step - loss: 1.6740 - acc: 0.3954 - val_loss: 1.5421 - val_acc: 0.4550\n",
      "Epoch 34/50\n",
      "50000/50000 [==============================] - 9s 173us/step - loss: 1.6717 - acc: 0.3981 - val_loss: 1.5447 - val_acc: 0.4512\n",
      "Epoch 35/50\n",
      "50000/50000 [==============================] - 10s 194us/step - loss: 1.6650 - acc: 0.4004 - val_loss: 1.5510 - val_acc: 0.4562\n",
      "Epoch 36/50\n",
      "50000/50000 [==============================] - 9s 181us/step - loss: 1.6625 - acc: 0.4010 - val_loss: 1.5398 - val_acc: 0.4494\n",
      "Epoch 37/50\n",
      "50000/50000 [==============================] - 9s 173us/step - loss: 1.6532 - acc: 0.4056 - val_loss: 1.5203 - val_acc: 0.4523\n",
      "Epoch 38/50\n",
      "50000/50000 [==============================] - 9s 172us/step - loss: 1.6415 - acc: 0.4084 - val_loss: 1.5134 - val_acc: 0.4568\n",
      "Epoch 39/50\n",
      "50000/50000 [==============================] - 8s 169us/step - loss: 1.6450 - acc: 0.4127 - val_loss: 1.5149 - val_acc: 0.4593\n",
      "Epoch 40/50\n",
      "50000/50000 [==============================] - 8s 170us/step - loss: 1.6404 - acc: 0.4106 - val_loss: 1.5140 - val_acc: 0.4571\n",
      "Epoch 41/50\n",
      "50000/50000 [==============================] - 9s 170us/step - loss: 1.6331 - acc: 0.4118 - val_loss: 1.5073 - val_acc: 0.4609\n",
      "Epoch 42/50\n"
     ]
    },
    {
     "name": "stdout",
     "output_type": "stream",
     "text": [
      "50000/50000 [==============================] - 9s 172us/step - loss: 1.6285 - acc: 0.4165 - val_loss: 1.5089 - val_acc: 0.4598\n",
      "Epoch 43/50\n",
      "50000/50000 [==============================] - 9s 179us/step - loss: 1.6261 - acc: 0.4153 - val_loss: 1.5018 - val_acc: 0.4583\n",
      "Epoch 44/50\n",
      "50000/50000 [==============================] - 9s 175us/step - loss: 1.6167 - acc: 0.4202 - val_loss: 1.4949 - val_acc: 0.4600\n",
      "Epoch 45/50\n",
      "50000/50000 [==============================] - 8s 169us/step - loss: 1.6136 - acc: 0.4206 - val_loss: 1.4871 - val_acc: 0.4651\n",
      "Epoch 46/50\n",
      "50000/50000 [==============================] - 8s 167us/step - loss: 1.6051 - acc: 0.4191 - val_loss: 1.4867 - val_acc: 0.4653\n",
      "Epoch 47/50\n",
      "50000/50000 [==============================] - 8s 168us/step - loss: 1.6073 - acc: 0.4232 - val_loss: 1.4862 - val_acc: 0.4651\n",
      "Epoch 48/50\n",
      "50000/50000 [==============================] - 8s 169us/step - loss: 1.5996 - acc: 0.4242 - val_loss: 1.4859 - val_acc: 0.4614\n",
      "Epoch 49/50\n",
      "50000/50000 [==============================] - 9s 173us/step - loss: 1.5956 - acc: 0.4292 - val_loss: 1.4712 - val_acc: 0.4709\n",
      "Epoch 50/50\n",
      "50000/50000 [==============================] - 9s 173us/step - loss: 1.5922 - acc: 0.4286 - val_loss: 1.4769 - val_acc: 0.4710\n"
     ]
    }
   ],
   "source": [
    "model = build_mlp(input_shape=x_train.shape[1:], drp_ratio=Dropout_EXP)\n",
    "model.summary()\n",
    "optimizer = keras.optimizers.SGD(lr=LEARNING_RATE, nesterov=True, momentum=MOMENTUM)\n",
    "model.compile(loss=\"categorical_crossentropy\", metrics=[\"accuracy\"], optimizer=optimizer)\n",
    "\n",
    "model.fit(x_train, y_train, \n",
    "          epochs=EPOCHS, \n",
    "          batch_size=BATCH_SIZE, \n",
    "          validation_data=(x_test, y_test), \n",
    "          shuffle=True)\n",
    "\n",
    "# Collect results\n",
    "train_loss = model.history.history[\"loss\"]\n",
    "valid_loss = model.history.history[\"val_loss\"]\n",
    "train_acc = model.history.history[\"acc\"]\n",
    "valid_acc = model.history.history[\"val_acc\"]"
   ]
  },
  {
   "cell_type": "code",
   "execution_count": 8,
   "metadata": {},
   "outputs": [
    {
     "data": {
      "image/png": "[encoded data removed]",
      "text/plain": [
       "<Figure size 432x288 with 1 Axes>"
      ]
     },
     "metadata": {
      "needs_background": "light"
     },
     "output_type": "display_data"
    },
    {
     "data": {
      "image/png": "[encoded data removed]",
      "text/plain": [
       "<Figure size 432x288 with 1 Axes>"
      ]
     },
     "metadata": {
      "needs_background": "light"
     },
     "output_type": "display_data"
    }
   ],
   "source": [
    "import matplotlib.pyplot as plt\n",
    "%matplotlib inline\n",
    "\n",
    "plt.plot(range(len(train_loss)), train_loss, label=\"train loss\")\n",
    "plt.plot(range(len(valid_loss)), valid_loss, label=\"valid loss\")\n",
    "plt.legend()\n",
    "plt.title(\"Loss\")\n",
    "plt.show()\n",
    "\n",
    "plt.plot(range(len(train_acc)), train_acc, label=\"train accuracy\")\n",
    "plt.plot(range(len(valid_acc)), valid_acc, label=\"valid accuracy\")\n",
    "plt.legend()\n",
    "plt.title(\"Accuracy\")\n",
    "plt.show()"
   ]
  },
  {
   "cell_type": "code",
   "execution_count": null,
   "metadata": {},
   "outputs": [],
   "source": []
  },
  {
   "cell_type": "code",
   "execution_count": null,
   "metadata": {},
   "outputs": [],
   "source": []
  }
 ],
 "metadata": {
  "kernelspec": {
   "display_name": "Python 3",
   "language": "python",
   "name": "python3"
  },
  "language_info": {
   "codemirror_mode": {
    "name": "ipython",
    "version": 3
   },
   "file_extension": ".py",
   "mimetype": "text/x-python",
   "name": "python",
   "nbconvert_exporter": "python",
   "pygments_lexer": "ipython3",
   "version": "3.6.8"
  }
 },
 "nbformat": 4,
 "nbformat_minor": 2
}
