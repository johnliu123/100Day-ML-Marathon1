{
 "cells": [
  {
   "cell_type": "markdown",
   "metadata": {},
   "source": [
    "# 作業:\n",
    "嘗試調整參數:  \n",
    "sg:sg=1表示採用skip-gram,sg=0 表示採用cbow  \n",
    "window:能往左往右看幾個字的意思 "
   ]
  },
  {
   "cell_type": "code",
   "execution_count": 4,
   "metadata": {},
   "outputs": [],
   "source": [
    "import gensim, logging\n",
    "from gensim.models import word2vec"
   ]
  },
  {
   "cell_type": "code",
   "execution_count": 5,
   "metadata": {},
   "outputs": [
    {
     "name": "stderr",
     "output_type": "stream",
     "text": [
      "2019-03-10 01:15:57,062 : INFO : collecting all words and their counts\n",
      "2019-03-10 01:15:57,070 : INFO : PROGRESS: at sentence #0, processed 0 words, keeping 0 word types\n",
      "2019-03-10 01:15:57,071 : INFO : collected 3 word types from a corpus of 4 raw words and 2 sentences\n",
      "2019-03-10 01:15:57,071 : INFO : Loading a fresh vocabulary\n",
      "2019-03-10 01:15:57,072 : INFO : effective_min_count=1 retains 3 unique words (100% of original 3, drops 0)\n",
      "2019-03-10 01:15:57,073 : INFO : effective_min_count=1 leaves 4 word corpus (100% of original 4, drops 0)\n",
      "2019-03-10 01:15:57,074 : INFO : deleting the raw counts dictionary of 3 items\n",
      "2019-03-10 01:15:57,076 : INFO : sample=0.001 downsamples 3 most-common words\n",
      "2019-03-10 01:15:57,077 : INFO : downsampling leaves estimated 0 word corpus (5.7% of prior 4)\n",
      "2019-03-10 01:15:57,079 : INFO : estimated required memory for 3 words and 128 dimensions: 4572 bytes\n",
      "2019-03-10 01:15:57,080 : INFO : resetting layer weights\n",
      "2019-03-10 01:15:57,081 : INFO : training model with 4 workers on 3 vocabulary and 128 features, using sg=0 hs=0 sample=0.001 negative=5 window=3\n",
      "2019-03-10 01:15:57,088 : INFO : worker thread finished; awaiting finish of 3 more threads\n",
      "2019-03-10 01:15:57,089 : INFO : worker thread finished; awaiting finish of 2 more threads\n",
      "2019-03-10 01:15:57,090 : INFO : worker thread finished; awaiting finish of 1 more threads\n",
      "2019-03-10 01:15:57,091 : INFO : worker thread finished; awaiting finish of 0 more threads\n",
      "2019-03-10 01:15:57,092 : INFO : EPOCH - 1 : training on 4 raw words (0 effective words) took 0.0s, 0 effective words/s\n",
      "2019-03-10 01:15:57,099 : INFO : worker thread finished; awaiting finish of 3 more threads\n",
      "2019-03-10 01:15:57,100 : INFO : worker thread finished; awaiting finish of 2 more threads\n",
      "2019-03-10 01:15:57,101 : INFO : worker thread finished; awaiting finish of 1 more threads\n",
      "2019-03-10 01:15:57,103 : INFO : worker thread finished; awaiting finish of 0 more threads\n",
      "2019-03-10 01:15:57,104 : INFO : EPOCH - 2 : training on 4 raw words (0 effective words) took 0.0s, 0 effective words/s\n",
      "2019-03-10 01:15:57,108 : INFO : worker thread finished; awaiting finish of 3 more threads\n",
      "2019-03-10 01:15:57,109 : INFO : worker thread finished; awaiting finish of 2 more threads\n",
      "2019-03-10 01:15:57,110 : INFO : worker thread finished; awaiting finish of 1 more threads\n",
      "2019-03-10 01:15:57,112 : INFO : worker thread finished; awaiting finish of 0 more threads\n",
      "2019-03-10 01:15:57,114 : INFO : EPOCH - 3 : training on 4 raw words (1 effective words) took 0.0s, 151 effective words/s\n",
      "2019-03-10 01:15:57,121 : INFO : worker thread finished; awaiting finish of 3 more threads\n",
      "2019-03-10 01:15:57,122 : INFO : worker thread finished; awaiting finish of 2 more threads\n",
      "2019-03-10 01:15:57,123 : INFO : worker thread finished; awaiting finish of 1 more threads\n",
      "2019-03-10 01:15:57,123 : INFO : worker thread finished; awaiting finish of 0 more threads\n",
      "2019-03-10 01:15:57,124 : INFO : EPOCH - 4 : training on 4 raw words (1 effective words) took 0.0s, 254 effective words/s\n",
      "2019-03-10 01:15:57,130 : INFO : worker thread finished; awaiting finish of 3 more threads\n",
      "2019-03-10 01:15:57,132 : INFO : worker thread finished; awaiting finish of 2 more threads\n",
      "2019-03-10 01:15:57,134 : INFO : worker thread finished; awaiting finish of 1 more threads\n",
      "2019-03-10 01:15:57,135 : INFO : worker thread finished; awaiting finish of 0 more threads\n",
      "2019-03-10 01:15:57,137 : INFO : EPOCH - 5 : training on 4 raw words (0 effective words) took 0.0s, 0 effective words/s\n",
      "2019-03-10 01:15:57,138 : INFO : training on a 20 raw words (2 effective words) took 0.1s, 36 effective words/s\n",
      "2019-03-10 01:15:57,139 : WARNING : under 10 jobs per worker: consider setting a smaller `batch_words' for smoother alpha decay\n",
      "2019-03-10 01:15:57,140 : INFO : collecting all words and their counts\n",
      "2019-03-10 01:15:57,141 : INFO : PROGRESS: at sentence #0, processed 0 words, keeping 0 word types\n",
      "2019-03-10 01:15:57,142 : INFO : collected 3 word types from a corpus of 4 raw words and 2 sentences\n",
      "2019-03-10 01:15:57,142 : INFO : Loading a fresh vocabulary\n",
      "2019-03-10 01:15:57,144 : INFO : effective_min_count=1 retains 3 unique words (100% of original 3, drops 0)\n",
      "2019-03-10 01:15:57,144 : INFO : effective_min_count=1 leaves 4 word corpus (100% of original 4, drops 0)\n",
      "2019-03-10 01:15:57,146 : INFO : deleting the raw counts dictionary of 3 items\n",
      "2019-03-10 01:15:57,147 : INFO : sample=0.001 downsamples 3 most-common words\n",
      "2019-03-10 01:15:57,148 : INFO : downsampling leaves estimated 0 word corpus (5.7% of prior 4)\n",
      "2019-03-10 01:15:57,150 : INFO : estimated required memory for 3 words and 128 dimensions: 4572 bytes\n",
      "2019-03-10 01:15:57,151 : INFO : resetting layer weights\n",
      "2019-03-10 01:15:57,153 : INFO : training model with 4 workers on 3 vocabulary and 128 features, using sg=1 hs=0 sample=0.001 negative=5 window=3\n",
      "2019-03-10 01:15:57,159 : INFO : worker thread finished; awaiting finish of 3 more threads\n",
      "2019-03-10 01:15:57,160 : INFO : worker thread finished; awaiting finish of 2 more threads\n",
      "2019-03-10 01:15:57,161 : INFO : worker thread finished; awaiting finish of 1 more threads\n",
      "2019-03-10 01:15:57,162 : INFO : worker thread finished; awaiting finish of 0 more threads\n",
      "2019-03-10 01:15:57,162 : INFO : EPOCH - 1 : training on 4 raw words (0 effective words) took 0.0s, 0 effective words/s\n",
      "2019-03-10 01:15:57,170 : INFO : worker thread finished; awaiting finish of 3 more threads\n",
      "2019-03-10 01:15:57,171 : INFO : worker thread finished; awaiting finish of 2 more threads\n",
      "2019-03-10 01:15:57,173 : INFO : worker thread finished; awaiting finish of 1 more threads\n",
      "2019-03-10 01:15:57,174 : INFO : worker thread finished; awaiting finish of 0 more threads\n",
      "2019-03-10 01:15:57,175 : INFO : EPOCH - 2 : training on 4 raw words (0 effective words) took 0.0s, 0 effective words/s\n",
      "2019-03-10 01:15:57,180 : INFO : worker thread finished; awaiting finish of 3 more threads\n",
      "2019-03-10 01:15:57,181 : INFO : worker thread finished; awaiting finish of 2 more threads\n",
      "2019-03-10 01:15:57,183 : INFO : worker thread finished; awaiting finish of 1 more threads\n",
      "2019-03-10 01:15:57,184 : INFO : worker thread finished; awaiting finish of 0 more threads\n",
      "2019-03-10 01:15:57,185 : INFO : EPOCH - 3 : training on 4 raw words (1 effective words) took 0.0s, 188 effective words/s\n",
      "2019-03-10 01:15:57,189 : INFO : worker thread finished; awaiting finish of 3 more threads\n",
      "2019-03-10 01:15:57,190 : INFO : worker thread finished; awaiting finish of 2 more threads\n",
      "2019-03-10 01:15:57,191 : INFO : worker thread finished; awaiting finish of 1 more threads\n",
      "2019-03-10 01:15:57,191 : INFO : worker thread finished; awaiting finish of 0 more threads\n",
      "2019-03-10 01:15:57,192 : INFO : EPOCH - 4 : training on 4 raw words (1 effective words) took 0.0s, 362 effective words/s\n",
      "2019-03-10 01:15:57,196 : INFO : worker thread finished; awaiting finish of 3 more threads\n",
      "2019-03-10 01:15:57,197 : INFO : worker thread finished; awaiting finish of 2 more threads\n",
      "2019-03-10 01:15:57,198 : INFO : worker thread finished; awaiting finish of 1 more threads\n",
      "2019-03-10 01:15:57,199 : INFO : worker thread finished; awaiting finish of 0 more threads\n",
      "2019-03-10 01:15:57,200 : INFO : EPOCH - 5 : training on 4 raw words (0 effective words) took 0.0s, 0 effective words/s\n",
      "2019-03-10 01:15:57,201 : INFO : training on a 20 raw words (2 effective words) took 0.0s, 43 effective words/s\n",
      "2019-03-10 01:15:57,202 : WARNING : under 10 jobs per worker: consider setting a smaller `batch_words' for smoother alpha decay\n"
     ]
    }
   ],
   "source": [
    "logging.basicConfig(format='%(asctime)s : %(levelname)s : %(message)s', level=logging.INFO)  \n",
    "\n",
    "sentences = [['I am a hero', 'sentence'], ['She is a teacher', 'sentence']] \n",
    "\n",
    "# train word2vec on the two sentences  \n",
    "model_sg0 = word2vec.Word2Vec(sentences, size=128, min_count=1, window=3, workers=4, sg=0)  \n",
    "model_sg1 = word2vec.Word2Vec(sentences, size=128, min_count=1, window=3, workers=4, sg=1)  \n",
    "# sg=0 表示COBW, sg=1 表示skip-gram"
   ]
  },
  {
   "cell_type": "code",
   "execution_count": 6,
   "metadata": {},
   "outputs": [
    {
     "name": "stdout",
     "output_type": "stream",
     "text": [
      "Word2Vec(vocab=3, size=128, alpha=0.025)\n",
      "Word2Vec(vocab=3, size=128, alpha=0.025)\n"
     ]
    }
   ],
   "source": [
    "print(model_sg0)\n",
    "print(model_sg1)"
   ]
  },
  {
   "cell_type": "code",
   "execution_count": 7,
   "metadata": {},
   "outputs": [
    {
     "name": "stderr",
     "output_type": "stream",
     "text": [
      "C:\\Users\\johnliu\\AppData\\Local\\Continuum\\anaconda3\\lib\\site-packages\\ipykernel_launcher.py:1: DeprecationWarning: Call to deprecated `similarity` (Method will be removed in 4.0.0, use self.wv.similarity() instead).\n",
      "  \"\"\"Entry point for launching an IPython kernel.\n"
     ]
    },
    {
     "data": {
      "text/plain": [
       "0.08108802"
      ]
     },
     "execution_count": 7,
     "metadata": {},
     "output_type": "execute_result"
    }
   ],
   "source": [
    "model_sg0.similarity('I am a hero','She is a teacher')"
   ]
  },
  {
   "cell_type": "code",
   "execution_count": 8,
   "metadata": {},
   "outputs": [
    {
     "name": "stderr",
     "output_type": "stream",
     "text": [
      "C:\\Users\\johnliu\\AppData\\Local\\Continuum\\anaconda3\\lib\\site-packages\\ipykernel_launcher.py:1: DeprecationWarning: Call to deprecated `similarity` (Method will be removed in 4.0.0, use self.wv.similarity() instead).\n",
      "  \"\"\"Entry point for launching an IPython kernel.\n"
     ]
    },
    {
     "data": {
      "text/plain": [
       "0.08108802"
      ]
     },
     "execution_count": 8,
     "metadata": {},
     "output_type": "execute_result"
    }
   ],
   "source": [
    "model_sg1.similarity('I am a hero','She is a teacher')"
   ]
  },
  {
   "cell_type": "code",
   "execution_count": null,
   "metadata": {},
   "outputs": [],
   "source": []
  }
 ],
 "metadata": {
  "kernelspec": {
   "display_name": "Python 3",
   "language": "python",
   "name": "python3"
  },
  "language_info": {
   "codemirror_mode": {
    "name": "ipython",
    "version": 3
   },
   "file_extension": ".py",
   "mimetype": "text/x-python",
   "name": "python",
   "nbconvert_exporter": "python",
   "pygments_lexer": "ipython3",
   "version": "3.6.8"
  }
 },
 "nbformat": 4,
 "nbformat_minor": 2
}
