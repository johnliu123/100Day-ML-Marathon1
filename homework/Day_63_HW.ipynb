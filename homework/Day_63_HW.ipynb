{
 "cells": [
  {
   "cell_type": "code",
   "execution_count": 1,
   "metadata": {},
   "outputs": [],
   "source": [
    "import numpy as np\n",
    "\n",
    "#Input array\n",
    "X = np.array([[1, 0, 1, 0], [1 ,0 ,1 ,1 ],[ 0 , 1 , 0 , 1 ]])\n",
    "\n",
    "#Output\n",
    "y = np.array([[1], [1], [0]])"
   ]
  },
  {
   "cell_type": "code",
   "execution_count": 2,
   "metadata": {},
   "outputs": [],
   "source": [
    "#Sigmoid Function\n",
    "def sigmoid(x): \n",
    "    return  1/(1+np.exp(-x))\n",
    "\n",
    "#Derivative of Sigmoid Function\n",
    "def derivatives_sigmoid(x): \n",
    "    return x*(1-x)"
   ]
  },
  {
   "cell_type": "code",
   "execution_count": 3,
   "metadata": {},
   "outputs": [],
   "source": [
    "#Variable initialization\n",
    "epoch = 5000 #Setting training iterations\n",
    "lr = 0.1 #Setting learning rate\n",
    "inputlayer_neurons = X.shape[1] #number of features in data set \n",
    "hiddenlayer_neurons = 3 #number of hidden layers neurons\n",
    "output_neurons = 1 #number of neurons at output layer"
   ]
  },
  {
   "cell_type": "code",
   "execution_count": 4,
   "metadata": {},
   "outputs": [],
   "source": [
    "#weight and bias initialization\n",
    "wh = np.random.uniform( size = ( inputlayer_neurons , hiddenlayer_neurons ) ) \n",
    "bh = np.random.uniform( size = ( 1 , hiddenlayer_neurons ) ) \n",
    "wout = np.random.uniform( size = ( hiddenlayer_neurons , output_neurons ) ) \n",
    "bout = np.random.uniform( size = ( 1 , output_neurons ) )"
   ]
  },
  {
   "cell_type": "code",
   "execution_count": 9,
   "metadata": {},
   "outputs": [
    {
     "name": "stdout",
     "output_type": "stream",
     "text": [
      "X.shape[1]= 4\n",
      "wh = \n",
      " [[0.92741655 0.95329856 0.56415581]\n",
      " [0.41777829 0.22392873 0.41934048]\n",
      " [0.41378552 0.52094942 0.17167081]\n",
      " [0.83170563 0.531242   0.1766242 ]]\n",
      "\n",
      "bh = \n",
      " [[0.3125645  0.4175365  0.75440271]]\n",
      "\n",
      "wout = \n",
      " [[0.81042986]\n",
      " [0.3367345 ]\n",
      " [0.79920495]]\n",
      "\n",
      "bout = \n",
      " [[0.83061466]]\n",
      "\n"
     ]
    }
   ],
   "source": [
    "print(f'X.shape[1]= {X.shape[1]}')\n",
    "print(f'wh = \\n {wh}\\n')\n",
    "print(f'bh = \\n {bh}\\n')\n",
    "print(f'wout = \\n {wout}\\n')\n",
    "print(f'bout = \\n {bout}\\n')"
   ]
  },
  {
   "cell_type": "markdown",
   "metadata": {
    "collapsed": true
   },
   "source": [
    "# 作業 \n",
    "* 請參閱範例中的 hidden Layer 寫法, 完成 output Layer 的程式"
   ]
  },
  {
   "cell_type": "code",
   "execution_count": 13,
   "metadata": {},
   "outputs": [
    {
     "name": "stdout",
     "output_type": "stream",
     "text": [
      "hiddenlayer_activations = \n",
      " [[0.83939946 0.86895886 0.81611269]\n",
      " [0.92311707 0.91856642 0.84115586]\n",
      " [0.82664709 0.76363401 0.79418969]]\n",
      "\n",
      "output of Forward Propogation:\n",
      "[[0.92098011]\n",
      " [0.92826279]\n",
      " [0.91624718]]\n",
      "wout,bout of Backpropagation:\n",
      "[[0.81042986]\n",
      " [0.3367345 ]\n",
      " [0.79920495]],\n",
      "[[0.83061466]]\n"
     ]
    }
   ],
   "source": [
    "for i in  range ( epoch ) :\n",
    "    #Forward Propogation\n",
    "    hidden_layer_input1 = np.dot(X, wh) \n",
    "    hidden_layer_input = hidden_layer_input1 + bh\n",
    "    hiddenlayer_activations =  sigmoid( hidden_layer_input ) \n",
    "   \n",
    "    output_layer_input1=np.dot(hiddenlayer_activations,wout)\n",
    "    output_layer_input=output_layer_input1+bout\n",
    "    output=sigmoid( output_layer_input ) \n",
    "\n",
    "print(f'hiddenlayer_activations = \\n {hiddenlayer_activations}\\n')    \n",
    "print ( \"output of Forward Propogation:\\n{}\" .format(output)) \n",
    "print ( \"wout,bout of Backpropagation:\\n{},\\n{}\" .format(wout, bout ))"
   ]
  },
  {
   "cell_type": "code",
   "execution_count": 14,
   "metadata": {},
   "outputs": [],
   "source": [
    "B_wout = derivatives_sigmoid(wout)\n",
    "B_bout = derivatives_sigmoid(bout)"
   ]
  },
  {
   "cell_type": "code",
   "execution_count": 15,
   "metadata": {},
   "outputs": [
    {
     "name": "stdout",
     "output_type": "stream",
     "text": [
      "wout of Backpropagation:\n",
      "[[0.1536333 ]\n",
      " [0.22334438]\n",
      " [0.1604764 ]]\n",
      "\n",
      "bout of Backpropagation:\n",
      "[[0.14069394]]\n",
      "\n"
     ]
    }
   ],
   "source": [
    "print ( f\"wout of Backpropagation:\\n{B_wout}\\n\")\n",
    "print ( f\"bout of Backpropagation:\\n{B_bout}\\n\")"
   ]
  },
  {
   "cell_type": "code",
   "execution_count": null,
   "metadata": {},
   "outputs": [],
   "source": []
  }
 ],
 "metadata": {
  "kernelspec": {
   "display_name": "Python 3",
   "language": "python",
   "name": "python3"
  },
  "language_info": {
   "codemirror_mode": {
    "name": "ipython",
    "version": 3
   },
   "file_extension": ".py",
   "mimetype": "text/x-python",
   "name": "python",
   "nbconvert_exporter": "python",
   "pygments_lexer": "ipython3",
   "version": "3.6.8"
  }
 },
 "nbformat": 4,
 "nbformat_minor": 2
}
